{
 "cells": [
  {
   "cell_type": "markdown",
   "metadata": {},
   "source": [
    "## 1 Introduction\n",
    "### Notation\n",
    "\n",
    "- n: number of samples (observations, data points)\n",
    "\n",
    "- p: number of features (variables)\n",
    "\n",
    "- X: n × p matrix \n",
    "\n",
    "#### Indexing\n",
    "- i indexes samples (from 1 to n)\n",
    "\n",
    "- j indexes variables (from 1 to p)\n",
    "\n",
    "#### Other information\n",
    "- vectors are by default represented as columns (also rows)\n",
    "\n",
    "- vectors of length n are in lower case bold; other vectors (for instance of length p) are in lower case normal\n",
    "\n",
    "- scalars are in lower case normal\n",
    "\n",
    "- matrices are in bold capitals\n",
    "\n",
    "- random variables are in normal capitals\n",
    "\n",
    "### Researched stuff\n",
    "\n",
    "- random variable: numerical outcome of a random process or experiment (such as the outcome of rolling a die would be X={1,2,3,4,5,6})"
   ]
  }
 ],
 "metadata": {
  "language_info": {
   "name": "python"
  }
 },
 "nbformat": 4,
 "nbformat_minor": 2
}
